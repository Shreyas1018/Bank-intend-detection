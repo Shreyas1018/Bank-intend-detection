{
 "cells": [
  {
   "cell_type": "code",
   "execution_count": 1,
   "id": "31fccb12",
   "metadata": {
    "_cell_guid": "b1076dfc-b9ad-4769-8c92-a6c4dae69d19",
    "_uuid": "8f2839f25d086af736a60e9eeb907d3b93b6e0e5",
    "execution": {
     "iopub.execute_input": "2024-04-06T16:29:15.187170Z",
     "iopub.status.busy": "2024-04-06T16:29:15.186004Z",
     "iopub.status.idle": "2024-04-06T16:29:36.627140Z",
     "shell.execute_reply": "2024-04-06T16:29:36.625729Z"
    },
    "papermill": {
     "duration": 21.455208,
     "end_time": "2024-04-06T16:29:36.630880",
     "exception": false,
     "start_time": "2024-04-06T16:29:15.175672",
     "status": "completed"
    },
    "tags": []
   },
   "outputs": [
    {
     "name": "stderr",
     "output_type": "stream",
     "text": [
      "2024-04-06 16:29:19.353038: E external/local_xla/xla/stream_executor/cuda/cuda_dnn.cc:9261] Unable to register cuDNN factory: Attempting to register factory for plugin cuDNN when one has already been registered\n",
      "2024-04-06 16:29:19.353226: E external/local_xla/xla/stream_executor/cuda/cuda_fft.cc:607] Unable to register cuFFT factory: Attempting to register factory for plugin cuFFT when one has already been registered\n",
      "2024-04-06 16:29:19.567899: E external/local_xla/xla/stream_executor/cuda/cuda_blas.cc:1515] Unable to register cuBLAS factory: Attempting to register factory for plugin cuBLAS when one has already been registered\n"
     ]
    }
   ],
   "source": [
    "import numpy as np\n",
    "import pandas as pd\n",
    "import tensorflow as tf\n",
    "import matplotlib.pyplot as plt\n",
    "import nltk\n",
    "\n",
    "from tensorflow.keras.layers import Dense, LSTM, Embedding, Dropout, Input, Flatten\n",
    "from tensorflow.keras.preprocessing.text import Tokenizer\n",
    "from tensorflow.keras.preprocessing.sequence import pad_sequences\n",
    "from tensorflow.math import confusion_matrix\n",
    "from sklearn.metrics import ConfusionMatrixDisplay, confusion_matrix"
   ]
  },
  {
   "cell_type": "code",
   "execution_count": 2,
   "id": "7a0217fb",
   "metadata": {
    "execution": {
     "iopub.execute_input": "2024-04-06T16:29:36.649567Z",
     "iopub.status.busy": "2024-04-06T16:29:36.647882Z",
     "iopub.status.idle": "2024-04-06T16:29:36.684236Z",
     "shell.execute_reply": "2024-04-06T16:29:36.682750Z"
    },
    "papermill": {
     "duration": 0.049225,
     "end_time": "2024-04-06T16:29:36.687933",
     "exception": false,
     "start_time": "2024-04-06T16:29:36.638708",
     "status": "completed"
    },
    "tags": []
   },
   "outputs": [
    {
     "data": {
      "text/html": [
       "<div>\n",
       "<style scoped>\n",
       "    .dataframe tbody tr th:only-of-type {\n",
       "        vertical-align: middle;\n",
       "    }\n",
       "\n",
       "    .dataframe tbody tr th {\n",
       "        vertical-align: top;\n",
       "    }\n",
       "\n",
       "    .dataframe thead th {\n",
       "        text-align: right;\n",
       "    }\n",
       "</style>\n",
       "<table border=\"1\" class=\"dataframe\">\n",
       "  <thead>\n",
       "    <tr style=\"text-align: right;\">\n",
       "      <th></th>\n",
       "      <th>Comments</th>\n",
       "      <th>Intend</th>\n",
       "    </tr>\n",
       "  </thead>\n",
       "  <tbody>\n",
       "    <tr>\n",
       "      <th>0</th>\n",
       "      <td>I OPENED A NEW ACCOUNT IN YOUR BANK BUT WHEN I...</td>\n",
       "      <td>1</td>\n",
       "    </tr>\n",
       "    <tr>\n",
       "      <th>1</th>\n",
       "      <td>I APPLIED FOR DEBIT OR CREDIT CARD WHEN I OPEN...</td>\n",
       "      <td>0</td>\n",
       "    </tr>\n",
       "    <tr>\n",
       "      <th>2</th>\n",
       "      <td>TILL NOW I DID NOT GET ANY DEBIT OR CREDIT CAR...</td>\n",
       "      <td>0</td>\n",
       "    </tr>\n",
       "    <tr>\n",
       "      <th>3</th>\n",
       "      <td>I GAVE AN APPLICATION FOR LINKING UNIQUE NUMBE...</td>\n",
       "      <td>1</td>\n",
       "    </tr>\n",
       "    <tr>\n",
       "      <th>4</th>\n",
       "      <td>I WANT TO CHANGE THE MOBILE NUMBER THAT WAS PR...</td>\n",
       "      <td>1</td>\n",
       "    </tr>\n",
       "  </tbody>\n",
       "</table>\n",
       "</div>"
      ],
      "text/plain": [
       "                                            Comments  Intend\n",
       "0  I OPENED A NEW ACCOUNT IN YOUR BANK BUT WHEN I...       1\n",
       "1  I APPLIED FOR DEBIT OR CREDIT CARD WHEN I OPEN...       0\n",
       "2  TILL NOW I DID NOT GET ANY DEBIT OR CREDIT CAR...       0\n",
       "3  I GAVE AN APPLICATION FOR LINKING UNIQUE NUMBE...       1\n",
       "4  I WANT TO CHANGE THE MOBILE NUMBER THAT WAS PR...       1"
      ]
     },
     "execution_count": 2,
     "metadata": {},
     "output_type": "execute_result"
    }
   ],
   "source": [
    "bank_df_train = pd.read_csv('/kaggle/input/bank-dataset/bank_train.csv')\n",
    "bank_df_train.columns = ['Comments', 'Intend']\n",
    "bank_df_train.head()"
   ]
  },
  {
   "cell_type": "code",
   "execution_count": 3,
   "id": "b5d3db12",
   "metadata": {
    "execution": {
     "iopub.execute_input": "2024-04-06T16:29:36.706488Z",
     "iopub.status.busy": "2024-04-06T16:29:36.705966Z",
     "iopub.status.idle": "2024-04-06T16:29:36.717154Z",
     "shell.execute_reply": "2024-04-06T16:29:36.715829Z"
    },
    "papermill": {
     "duration": 0.02426,
     "end_time": "2024-04-06T16:29:36.720425",
     "exception": false,
     "start_time": "2024-04-06T16:29:36.696165",
     "status": "completed"
    },
    "tags": []
   },
   "outputs": [],
   "source": [
    "bank_df_test = pd.read_csv('/kaggle/input/bank-dataset/bank_test.csv')\n",
    "bank_df_test.columns = ['Comments', 'Intend']"
   ]
  },
  {
   "cell_type": "code",
   "execution_count": 4,
   "id": "011976ba",
   "metadata": {
    "execution": {
     "iopub.execute_input": "2024-04-06T16:29:36.738120Z",
     "iopub.status.busy": "2024-04-06T16:29:36.737310Z",
     "iopub.status.idle": "2024-04-06T16:29:36.742932Z",
     "shell.execute_reply": "2024-04-06T16:29:36.741889Z"
    },
    "papermill": {
     "duration": 0.017423,
     "end_time": "2024-04-06T16:29:36.745582",
     "exception": false,
     "start_time": "2024-04-06T16:29:36.728159",
     "status": "completed"
    },
    "tags": []
   },
   "outputs": [],
   "source": [
    "intend_classes = {\n",
    "    0:'User Information related issue', \n",
    "    1:'Debit/Credit card related issues',\n",
    "    2:'Transaction related issues'\n",
    "}"
   ]
  },
  {
   "cell_type": "code",
   "execution_count": 5,
   "id": "dbdaa614",
   "metadata": {
    "execution": {
     "iopub.execute_input": "2024-04-06T16:29:36.763174Z",
     "iopub.status.busy": "2024-04-06T16:29:36.762323Z",
     "iopub.status.idle": "2024-04-06T16:29:36.830832Z",
     "shell.execute_reply": "2024-04-06T16:29:36.828813Z"
    },
    "papermill": {
     "duration": 0.081128,
     "end_time": "2024-04-06T16:29:36.834183",
     "exception": false,
     "start_time": "2024-04-06T16:29:36.753055",
     "status": "completed"
    },
    "tags": []
   },
   "outputs": [],
   "source": [
    "def tokenize_text(s):\n",
    "    res = nltk.word_tokenize(s.lower())\n",
    "    return res\n",
    "\n",
    "bank_df_train['Comments'] = bank_df_train['Comments'].map(tokenize_text)\n",
    "bank_df_test['Comments'] = bank_df_test['Comments'].map(tokenize_text)"
   ]
  },
  {
   "cell_type": "code",
   "execution_count": 6,
   "id": "e1a37e6e",
   "metadata": {
    "execution": {
     "iopub.execute_input": "2024-04-06T16:29:36.851430Z",
     "iopub.status.busy": "2024-04-06T16:29:36.850912Z",
     "iopub.status.idle": "2024-04-06T16:29:36.888074Z",
     "shell.execute_reply": "2024-04-06T16:29:36.886624Z"
    },
    "papermill": {
     "duration": 0.049531,
     "end_time": "2024-04-06T16:29:36.891294",
     "exception": false,
     "start_time": "2024-04-06T16:29:36.841763",
     "status": "completed"
    },
    "tags": []
   },
   "outputs": [],
   "source": [
    "def remove_stopwords(ls):\n",
    "    stopwords_dict = nltk.corpus.stopwords.words('english')\n",
    "    res = [i for i in ls if i not in stopwords_dict]\n",
    "    return res\n",
    "\n",
    "bank_df_train['Comments'] = bank_df_train['Comments'].map(remove_stopwords)\n",
    "bank_df_test['Comments'] = bank_df_test['Comments'].map(remove_stopwords)"
   ]
  },
  {
   "cell_type": "code",
   "execution_count": 7,
   "id": "e8cb7bb4",
   "metadata": {
    "execution": {
     "iopub.execute_input": "2024-04-06T16:29:36.908997Z",
     "iopub.status.busy": "2024-04-06T16:29:36.908473Z",
     "iopub.status.idle": "2024-04-06T16:29:36.962063Z",
     "shell.execute_reply": "2024-04-06T16:29:36.960452Z"
    },
    "papermill": {
     "duration": 0.066508,
     "end_time": "2024-04-06T16:29:36.965526",
     "exception": false,
     "start_time": "2024-04-06T16:29:36.899018",
     "status": "completed"
    },
    "tags": []
   },
   "outputs": [],
   "source": [
    "def stemming(ls):\n",
    "    porter_stemmer = nltk.stem.PorterStemmer()\n",
    "    lemmatizer = nltk.stem.WordNetLemmatizer()\n",
    "    \n",
    "    stem_words = [porter_stemmer.stem(i) for i in ls]\n",
    "    return stem_words\n",
    "\n",
    "bank_df_train['Comments'] = bank_df_train['Comments'].map(stemming)\n",
    "bank_df_test['Comments'] = bank_df_test['Comments'].map(stemming)"
   ]
  },
  {
   "cell_type": "code",
   "execution_count": 8,
   "id": "08e47072",
   "metadata": {
    "execution": {
     "iopub.execute_input": "2024-04-06T16:29:36.983208Z",
     "iopub.status.busy": "2024-04-06T16:29:36.982029Z",
     "iopub.status.idle": "2024-04-06T16:29:36.995841Z",
     "shell.execute_reply": "2024-04-06T16:29:36.994397Z"
    },
    "papermill": {
     "duration": 0.026289,
     "end_time": "2024-04-06T16:29:36.999235",
     "exception": false,
     "start_time": "2024-04-06T16:29:36.972946",
     "status": "completed"
    },
    "tags": []
   },
   "outputs": [
    {
     "name": "stdout",
     "output_type": "stream",
     "text": [
      "Max length:  27\n"
     ]
    }
   ],
   "source": [
    "def get_data(train_df, test_df):\n",
    "    \n",
    "    # Converting text tokens to sequence tokens\n",
    "    text_tokenizer = Tokenizer()\n",
    "    text_tokenizer.fit_on_texts(train_df.Comments)\n",
    "    \n",
    "    train_tokenized_data = text_tokenizer.texts_to_sequences(train_df.Comments)\n",
    "    test_tokenized_data = text_tokenizer.texts_to_sequences(test_df.Comments)\n",
    "    \n",
    "    max_len = max(len(i) for i in train_tokenized_data)\n",
    "    print('Max length: ', max_len)\n",
    "    \n",
    "    train_data = pad_sequences(train_tokenized_data, maxlen=max_len, padding='pre')\n",
    "    test_data = pad_sequences(test_tokenized_data, maxlen=max_len, padding='pre')\n",
    "    \n",
    "    return text_tokenizer, max_len, train_data, test_data\n",
    "\n",
    "text_tokenizer, max_len, train_data, test_data = get_data(bank_df_train, bank_df_test)"
   ]
  },
  {
   "cell_type": "code",
   "execution_count": 9,
   "id": "019ecd1e",
   "metadata": {
    "execution": {
     "iopub.execute_input": "2024-04-06T16:29:37.016760Z",
     "iopub.status.busy": "2024-04-06T16:29:37.015674Z",
     "iopub.status.idle": "2024-04-06T16:29:37.067267Z",
     "shell.execute_reply": "2024-04-06T16:29:37.065781Z"
    },
    "papermill": {
     "duration": 0.064015,
     "end_time": "2024-04-06T16:29:37.070764",
     "exception": false,
     "start_time": "2024-04-06T16:29:37.006749",
     "status": "completed"
    },
    "tags": []
   },
   "outputs": [],
   "source": [
    "y = tf.one_hot(bank_df_train['Intend'].values, 3)"
   ]
  },
  {
   "cell_type": "code",
   "execution_count": 10,
   "id": "043521e1",
   "metadata": {
    "execution": {
     "iopub.execute_input": "2024-04-06T16:29:37.087986Z",
     "iopub.status.busy": "2024-04-06T16:29:37.087460Z",
     "iopub.status.idle": "2024-04-06T16:29:37.212944Z",
     "shell.execute_reply": "2024-04-06T16:29:37.211630Z"
    },
    "papermill": {
     "duration": 0.137689,
     "end_time": "2024-04-06T16:29:37.216112",
     "exception": false,
     "start_time": "2024-04-06T16:29:37.078423",
     "status": "completed"
    },
    "tags": []
   },
   "outputs": [],
   "source": [
    "model = tf.keras.Sequential([\n",
    "    Input((27,)),\n",
    "    Embedding(204, 32),\n",
    "    LSTM(units=10),\n",
    "    Dropout(0.2),\n",
    "    Dense(units = 3, activation='sigmoid')  \n",
    "])"
   ]
  },
  {
   "cell_type": "code",
   "execution_count": 11,
   "id": "58b7d670",
   "metadata": {
    "execution": {
     "iopub.execute_input": "2024-04-06T16:29:37.233466Z",
     "iopub.status.busy": "2024-04-06T16:29:37.232953Z",
     "iopub.status.idle": "2024-04-06T16:29:37.251122Z",
     "shell.execute_reply": "2024-04-06T16:29:37.249332Z"
    },
    "papermill": {
     "duration": 0.030735,
     "end_time": "2024-04-06T16:29:37.254491",
     "exception": false,
     "start_time": "2024-04-06T16:29:37.223756",
     "status": "completed"
    },
    "tags": []
   },
   "outputs": [],
   "source": [
    "model.compile(optimizer='adam', loss='categorical_crossentropy', metrics = ['accuracy', 'auc'])"
   ]
  },
  {
   "cell_type": "code",
   "execution_count": 12,
   "id": "ef69e595",
   "metadata": {
    "execution": {
     "iopub.execute_input": "2024-04-06T16:29:37.271520Z",
     "iopub.status.busy": "2024-04-06T16:29:37.271012Z",
     "iopub.status.idle": "2024-04-06T16:29:37.299187Z",
     "shell.execute_reply": "2024-04-06T16:29:37.297915Z"
    },
    "papermill": {
     "duration": 0.040275,
     "end_time": "2024-04-06T16:29:37.302286",
     "exception": false,
     "start_time": "2024-04-06T16:29:37.262011",
     "status": "completed"
    },
    "tags": []
   },
   "outputs": [
    {
     "data": {
      "text/html": [
       "<pre style=\"white-space:pre;overflow-x:auto;line-height:normal;font-family:Menlo,'DejaVu Sans Mono',consolas,'Courier New',monospace\"><span style=\"font-weight: bold\">Model: \"sequential\"</span>\n",
       "</pre>\n"
      ],
      "text/plain": [
       "\u001b[1mModel: \"sequential\"\u001b[0m\n"
      ]
     },
     "metadata": {},
     "output_type": "display_data"
    },
    {
     "data": {
      "text/html": [
       "<pre style=\"white-space:pre;overflow-x:auto;line-height:normal;font-family:Menlo,'DejaVu Sans Mono',consolas,'Courier New',monospace\">┏━━━━━━━━━━━━━━━━━━━━━━━━━━━━━━━━━┳━━━━━━━━━━━━━━━━━━━━━━━━┳━━━━━━━━━━━━━━━┓\n",
       "┃<span style=\"font-weight: bold\"> Layer (type)                    </span>┃<span style=\"font-weight: bold\"> Output Shape           </span>┃<span style=\"font-weight: bold\">       Param # </span>┃\n",
       "┡━━━━━━━━━━━━━━━━━━━━━━━━━━━━━━━━━╇━━━━━━━━━━━━━━━━━━━━━━━━╇━━━━━━━━━━━━━━━┩\n",
       "│ embedding (<span style=\"color: #0087ff; text-decoration-color: #0087ff\">Embedding</span>)           │ (<span style=\"color: #00d7ff; text-decoration-color: #00d7ff\">None</span>, <span style=\"color: #00af00; text-decoration-color: #00af00\">27</span>, <span style=\"color: #00af00; text-decoration-color: #00af00\">32</span>)         │         <span style=\"color: #00af00; text-decoration-color: #00af00\">6,528</span> │\n",
       "├─────────────────────────────────┼────────────────────────┼───────────────┤\n",
       "│ lstm (<span style=\"color: #0087ff; text-decoration-color: #0087ff\">LSTM</span>)                     │ (<span style=\"color: #00d7ff; text-decoration-color: #00d7ff\">None</span>, <span style=\"color: #00af00; text-decoration-color: #00af00\">10</span>)             │         <span style=\"color: #00af00; text-decoration-color: #00af00\">1,720</span> │\n",
       "├─────────────────────────────────┼────────────────────────┼───────────────┤\n",
       "│ dropout (<span style=\"color: #0087ff; text-decoration-color: #0087ff\">Dropout</span>)               │ (<span style=\"color: #00d7ff; text-decoration-color: #00d7ff\">None</span>, <span style=\"color: #00af00; text-decoration-color: #00af00\">10</span>)             │             <span style=\"color: #00af00; text-decoration-color: #00af00\">0</span> │\n",
       "├─────────────────────────────────┼────────────────────────┼───────────────┤\n",
       "│ dense (<span style=\"color: #0087ff; text-decoration-color: #0087ff\">Dense</span>)                   │ (<span style=\"color: #00d7ff; text-decoration-color: #00d7ff\">None</span>, <span style=\"color: #00af00; text-decoration-color: #00af00\">3</span>)              │            <span style=\"color: #00af00; text-decoration-color: #00af00\">33</span> │\n",
       "└─────────────────────────────────┴────────────────────────┴───────────────┘\n",
       "</pre>\n"
      ],
      "text/plain": [
       "┏━━━━━━━━━━━━━━━━━━━━━━━━━━━━━━━━━┳━━━━━━━━━━━━━━━━━━━━━━━━┳━━━━━━━━━━━━━━━┓\n",
       "┃\u001b[1m \u001b[0m\u001b[1mLayer (type)                   \u001b[0m\u001b[1m \u001b[0m┃\u001b[1m \u001b[0m\u001b[1mOutput Shape          \u001b[0m\u001b[1m \u001b[0m┃\u001b[1m \u001b[0m\u001b[1m      Param #\u001b[0m\u001b[1m \u001b[0m┃\n",
       "┡━━━━━━━━━━━━━━━━━━━━━━━━━━━━━━━━━╇━━━━━━━━━━━━━━━━━━━━━━━━╇━━━━━━━━━━━━━━━┩\n",
       "│ embedding (\u001b[38;5;33mEmbedding\u001b[0m)           │ (\u001b[38;5;45mNone\u001b[0m, \u001b[38;5;34m27\u001b[0m, \u001b[38;5;34m32\u001b[0m)         │         \u001b[38;5;34m6,528\u001b[0m │\n",
       "├─────────────────────────────────┼────────────────────────┼───────────────┤\n",
       "│ lstm (\u001b[38;5;33mLSTM\u001b[0m)                     │ (\u001b[38;5;45mNone\u001b[0m, \u001b[38;5;34m10\u001b[0m)             │         \u001b[38;5;34m1,720\u001b[0m │\n",
       "├─────────────────────────────────┼────────────────────────┼───────────────┤\n",
       "│ dropout (\u001b[38;5;33mDropout\u001b[0m)               │ (\u001b[38;5;45mNone\u001b[0m, \u001b[38;5;34m10\u001b[0m)             │             \u001b[38;5;34m0\u001b[0m │\n",
       "├─────────────────────────────────┼────────────────────────┼───────────────┤\n",
       "│ dense (\u001b[38;5;33mDense\u001b[0m)                   │ (\u001b[38;5;45mNone\u001b[0m, \u001b[38;5;34m3\u001b[0m)              │            \u001b[38;5;34m33\u001b[0m │\n",
       "└─────────────────────────────────┴────────────────────────┴───────────────┘\n"
      ]
     },
     "metadata": {},
     "output_type": "display_data"
    },
    {
     "data": {
      "text/html": [
       "<pre style=\"white-space:pre;overflow-x:auto;line-height:normal;font-family:Menlo,'DejaVu Sans Mono',consolas,'Courier New',monospace\"><span style=\"font-weight: bold\"> Total params: </span><span style=\"color: #00af00; text-decoration-color: #00af00\">8,281</span> (32.35 KB)\n",
       "</pre>\n"
      ],
      "text/plain": [
       "\u001b[1m Total params: \u001b[0m\u001b[38;5;34m8,281\u001b[0m (32.35 KB)\n"
      ]
     },
     "metadata": {},
     "output_type": "display_data"
    },
    {
     "data": {
      "text/html": [
       "<pre style=\"white-space:pre;overflow-x:auto;line-height:normal;font-family:Menlo,'DejaVu Sans Mono',consolas,'Courier New',monospace\"><span style=\"font-weight: bold\"> Trainable params: </span><span style=\"color: #00af00; text-decoration-color: #00af00\">8,281</span> (32.35 KB)\n",
       "</pre>\n"
      ],
      "text/plain": [
       "\u001b[1m Trainable params: \u001b[0m\u001b[38;5;34m8,281\u001b[0m (32.35 KB)\n"
      ]
     },
     "metadata": {},
     "output_type": "display_data"
    },
    {
     "data": {
      "text/html": [
       "<pre style=\"white-space:pre;overflow-x:auto;line-height:normal;font-family:Menlo,'DejaVu Sans Mono',consolas,'Courier New',monospace\"><span style=\"font-weight: bold\"> Non-trainable params: </span><span style=\"color: #00af00; text-decoration-color: #00af00\">0</span> (0.00 B)\n",
       "</pre>\n"
      ],
      "text/plain": [
       "\u001b[1m Non-trainable params: \u001b[0m\u001b[38;5;34m0\u001b[0m (0.00 B)\n"
      ]
     },
     "metadata": {},
     "output_type": "display_data"
    }
   ],
   "source": [
    "model.summary()"
   ]
  },
  {
   "cell_type": "code",
   "execution_count": 13,
   "id": "8ad9d9ff",
   "metadata": {
    "execution": {
     "iopub.execute_input": "2024-04-06T16:29:37.321760Z",
     "iopub.status.busy": "2024-04-06T16:29:37.321244Z",
     "iopub.status.idle": "2024-04-06T16:29:37.327916Z",
     "shell.execute_reply": "2024-04-06T16:29:37.326313Z"
    },
    "papermill": {
     "duration": 0.019484,
     "end_time": "2024-04-06T16:29:37.330470",
     "exception": false,
     "start_time": "2024-04-06T16:29:37.310986",
     "status": "completed"
    },
    "tags": []
   },
   "outputs": [],
   "source": [
    "early_stopping = tf.keras.callbacks.EarlyStopping(\n",
    "    patience = 10,\n",
    "    monitor='val_auc',\n",
    "    restore_best_weights = True,\n",
    ")"
   ]
  },
  {
   "cell_type": "code",
   "execution_count": 14,
   "id": "22cc2818",
   "metadata": {
    "execution": {
     "iopub.execute_input": "2024-04-06T16:29:37.349494Z",
     "iopub.status.busy": "2024-04-06T16:29:37.349020Z",
     "iopub.status.idle": "2024-04-06T16:29:44.659251Z",
     "shell.execute_reply": "2024-04-06T16:29:44.657807Z"
    },
    "papermill": {
     "duration": 7.323221,
     "end_time": "2024-04-06T16:29:44.662235",
     "exception": false,
     "start_time": "2024-04-06T16:29:37.339014",
     "status": "completed"
    },
    "tags": []
   },
   "outputs": [
    {
     "name": "stdout",
     "output_type": "stream",
     "text": [
      "Epoch 1/100\n",
      "\u001b[1m3/3\u001b[0m \u001b[32m━━━━━━━━━━━━━━━━━━━━\u001b[0m\u001b[37m\u001b[0m \u001b[1m4s\u001b[0m 288ms/step - accuracy: 0.3199 - auc: 0.4641 - loss: 1.0996 - val_accuracy: 0.0000e+00 - val_auc: 0.5312 - val_loss: 1.0972\n",
      "Epoch 2/100\n",
      "\u001b[1m3/3\u001b[0m \u001b[32m━━━━━━━━━━━━━━━━━━━━\u001b[0m\u001b[37m\u001b[0m \u001b[1m0s\u001b[0m 40ms/step - accuracy: 0.5559 - auc: 0.7203 - loss: 1.0869 - val_accuracy: 0.2500 - val_auc: 0.6172 - val_loss: 1.0915\n",
      "Epoch 3/100\n",
      "\u001b[1m3/3\u001b[0m \u001b[32m━━━━━━━━━━━━━━━━━━━━\u001b[0m\u001b[37m\u001b[0m \u001b[1m0s\u001b[0m 38ms/step - accuracy: 0.6489 - auc: 0.8331 - loss: 1.0678 - val_accuracy: 0.7500 - val_auc: 0.6836 - val_loss: 1.0837\n",
      "Epoch 4/100\n",
      "\u001b[1m3/3\u001b[0m \u001b[32m━━━━━━━━━━━━━━━━━━━━\u001b[0m\u001b[37m\u001b[0m \u001b[1m0s\u001b[0m 34ms/step - accuracy: 0.7321 - auc: 0.8936 - loss: 1.0521 - val_accuracy: 0.7500 - val_auc: 0.7266 - val_loss: 1.0778\n",
      "Epoch 5/100\n",
      "\u001b[1m3/3\u001b[0m \u001b[32m━━━━━━━━━━━━━━━━━━━━\u001b[0m\u001b[37m\u001b[0m \u001b[1m0s\u001b[0m 33ms/step - accuracy: 0.7016 - auc: 0.8722 - loss: 1.0430 - val_accuracy: 0.7500 - val_auc: 0.7695 - val_loss: 1.0708\n",
      "Epoch 6/100\n",
      "\u001b[1m3/3\u001b[0m \u001b[32m━━━━━━━━━━━━━━━━━━━━\u001b[0m\u001b[37m\u001b[0m \u001b[1m0s\u001b[0m 32ms/step - accuracy: 0.6938 - auc: 0.8881 - loss: 1.0117 - val_accuracy: 0.6250 - val_auc: 0.7578 - val_loss: 1.0639\n",
      "Epoch 7/100\n",
      "\u001b[1m3/3\u001b[0m \u001b[32m━━━━━━━━━━━━━━━━━━━━\u001b[0m\u001b[37m\u001b[0m \u001b[1m0s\u001b[0m 32ms/step - accuracy: 0.7055 - auc: 0.8614 - loss: 1.0092 - val_accuracy: 0.6250 - val_auc: 0.7578 - val_loss: 1.0571\n",
      "Epoch 8/100\n",
      "\u001b[1m3/3\u001b[0m \u001b[32m━━━━━━━━━━━━━━━━━━━━\u001b[0m\u001b[37m\u001b[0m \u001b[1m0s\u001b[0m 37ms/step - accuracy: 0.7100 - auc: 0.8900 - loss: 0.9803 - val_accuracy: 0.6250 - val_auc: 0.7383 - val_loss: 1.0491\n",
      "Epoch 9/100\n",
      "\u001b[1m3/3\u001b[0m \u001b[32m━━━━━━━━━━━━━━━━━━━━\u001b[0m\u001b[37m\u001b[0m \u001b[1m0s\u001b[0m 32ms/step - accuracy: 0.6509 - auc: 0.8686 - loss: 0.9365 - val_accuracy: 0.6250 - val_auc: 0.7383 - val_loss: 1.0395\n",
      "Epoch 10/100\n",
      "\u001b[1m3/3\u001b[0m \u001b[32m━━━━━━━━━━━━━━━━━━━━\u001b[0m\u001b[37m\u001b[0m \u001b[1m0s\u001b[0m 32ms/step - accuracy: 0.6268 - auc: 0.8550 - loss: 0.9283 - val_accuracy: 0.6250 - val_auc: 0.7617 - val_loss: 1.0266\n",
      "Epoch 11/100\n",
      "\u001b[1m3/3\u001b[0m \u001b[32m━━━━━━━━━━━━━━━━━━━━\u001b[0m\u001b[37m\u001b[0m \u001b[1m0s\u001b[0m 40ms/step - accuracy: 0.6183 - auc: 0.8587 - loss: 0.8927 - val_accuracy: 0.6250 - val_auc: 0.8164 - val_loss: 1.0146\n",
      "Epoch 12/100\n",
      "\u001b[1m3/3\u001b[0m \u001b[32m━━━━━━━━━━━━━━━━━━━━\u001b[0m\u001b[37m\u001b[0m \u001b[1m0s\u001b[0m 37ms/step - accuracy: 0.7094 - auc: 0.8826 - loss: 0.8740 - val_accuracy: 0.8750 - val_auc: 0.8242 - val_loss: 0.9999\n",
      "Epoch 13/100\n",
      "\u001b[1m3/3\u001b[0m \u001b[32m━━━━━━━━━━━━━━━━━━━━\u001b[0m\u001b[37m\u001b[0m \u001b[1m0s\u001b[0m 39ms/step - accuracy: 0.6866 - auc: 0.8547 - loss: 0.8533 - val_accuracy: 0.8750 - val_auc: 0.8828 - val_loss: 0.9791\n",
      "Epoch 14/100\n",
      "\u001b[1m3/3\u001b[0m \u001b[32m━━━━━━━━━━━━━━━━━━━━\u001b[0m\u001b[37m\u001b[0m \u001b[1m0s\u001b[0m 33ms/step - accuracy: 0.6990 - auc: 0.8929 - loss: 0.8422 - val_accuracy: 0.8750 - val_auc: 0.9219 - val_loss: 0.9553\n",
      "Epoch 15/100\n",
      "\u001b[1m3/3\u001b[0m \u001b[32m━━━━━━━━━━━━━━━━━━━━\u001b[0m\u001b[37m\u001b[0m \u001b[1m0s\u001b[0m 33ms/step - accuracy: 0.7094 - auc: 0.8884 - loss: 0.7742 - val_accuracy: 0.8750 - val_auc: 0.9688 - val_loss: 0.9336\n",
      "Epoch 16/100\n",
      "\u001b[1m3/3\u001b[0m \u001b[32m━━━━━━━━━━━━━━━━━━━━\u001b[0m\u001b[37m\u001b[0m \u001b[1m0s\u001b[0m 32ms/step - accuracy: 0.7718 - auc: 0.9031 - loss: 0.7552 - val_accuracy: 0.8750 - val_auc: 0.9766 - val_loss: 0.9119\n",
      "Epoch 17/100\n",
      "\u001b[1m3/3\u001b[0m \u001b[32m━━━━━━━━━━━━━━━━━━━━\u001b[0m\u001b[37m\u001b[0m \u001b[1m0s\u001b[0m 38ms/step - accuracy: 0.7679 - auc: 0.9169 - loss: 0.7488 - val_accuracy: 1.0000 - val_auc: 0.9922 - val_loss: 0.8909\n",
      "Epoch 18/100\n",
      "\u001b[1m3/3\u001b[0m \u001b[32m━━━━━━━━━━━━━━━━━━━━\u001b[0m\u001b[37m\u001b[0m \u001b[1m0s\u001b[0m 34ms/step - accuracy: 0.8316 - auc: 0.9409 - loss: 0.7032 - val_accuracy: 1.0000 - val_auc: 0.9961 - val_loss: 0.8646\n",
      "Epoch 19/100\n",
      "\u001b[1m3/3\u001b[0m \u001b[32m━━━━━━━━━━━━━━━━━━━━\u001b[0m\u001b[37m\u001b[0m \u001b[1m0s\u001b[0m 32ms/step - accuracy: 0.8355 - auc: 0.9583 - loss: 0.6924 - val_accuracy: 1.0000 - val_auc: 0.9961 - val_loss: 0.8363\n",
      "Epoch 20/100\n",
      "\u001b[1m3/3\u001b[0m \u001b[32m━━━━━━━━━━━━━━━━━━━━\u001b[0m\u001b[37m\u001b[0m \u001b[1m0s\u001b[0m 39ms/step - accuracy: 0.8992 - auc: 0.9652 - loss: 0.6551 - val_accuracy: 1.0000 - val_auc: 1.0000 - val_loss: 0.8078\n",
      "Epoch 21/100\n",
      "\u001b[1m3/3\u001b[0m \u001b[32m━━━━━━━━━━━━━━━━━━━━\u001b[0m\u001b[37m\u001b[0m \u001b[1m0s\u001b[0m 33ms/step - accuracy: 0.9142 - auc: 0.9746 - loss: 0.6471 - val_accuracy: 1.0000 - val_auc: 1.0000 - val_loss: 0.7783\n",
      "Epoch 22/100\n",
      "\u001b[1m3/3\u001b[0m \u001b[32m━━━━━━━━━━━━━━━━━━━━\u001b[0m\u001b[37m\u001b[0m \u001b[1m0s\u001b[0m 34ms/step - accuracy: 0.9187 - auc: 0.9862 - loss: 0.6403 - val_accuracy: 1.0000 - val_auc: 1.0000 - val_loss: 0.7470\n",
      "Epoch 23/100\n",
      "\u001b[1m3/3\u001b[0m \u001b[32m━━━━━━━━━━━━━━━━━━━━\u001b[0m\u001b[37m\u001b[0m \u001b[1m0s\u001b[0m 36ms/step - accuracy: 0.9291 - auc: 0.9815 - loss: 0.5862 - val_accuracy: 1.0000 - val_auc: 1.0000 - val_loss: 0.7290\n",
      "Epoch 24/100\n",
      "\u001b[1m3/3\u001b[0m \u001b[32m━━━━━━━━━━━━━━━━━━━━\u001b[0m\u001b[37m\u001b[0m \u001b[1m0s\u001b[0m 32ms/step - accuracy: 0.9629 - auc: 0.9905 - loss: 0.5757 - val_accuracy: 1.0000 - val_auc: 1.0000 - val_loss: 0.6981\n",
      "Epoch 25/100\n",
      "\u001b[1m3/3\u001b[0m \u001b[32m━━━━━━━━━━━━━━━━━━━━\u001b[0m\u001b[37m\u001b[0m \u001b[1m0s\u001b[0m 30ms/step - accuracy: 0.9623 - auc: 0.9918 - loss: 0.5205 - val_accuracy: 1.0000 - val_auc: 1.0000 - val_loss: 0.6529\n",
      "Epoch 26/100\n",
      "\u001b[1m3/3\u001b[0m \u001b[32m━━━━━━━━━━━━━━━━━━━━\u001b[0m\u001b[37m\u001b[0m \u001b[1m0s\u001b[0m 35ms/step - accuracy: 0.9330 - auc: 0.9879 - loss: 0.5257 - val_accuracy: 1.0000 - val_auc: 1.0000 - val_loss: 0.6190\n",
      "Epoch 27/100\n",
      "\u001b[1m3/3\u001b[0m \u001b[32m━━━━━━━━━━━━━━━━━━━━\u001b[0m\u001b[37m\u001b[0m \u001b[1m0s\u001b[0m 40ms/step - accuracy: 0.9629 - auc: 0.9876 - loss: 0.4999 - val_accuracy: 1.0000 - val_auc: 1.0000 - val_loss: 0.6015\n",
      "Epoch 28/100\n",
      "\u001b[1m3/3\u001b[0m \u001b[32m━━━━━━━━━━━━━━━━━━━━\u001b[0m\u001b[37m\u001b[0m \u001b[1m0s\u001b[0m 38ms/step - accuracy: 0.9512 - auc: 0.9908 - loss: 0.4354 - val_accuracy: 1.0000 - val_auc: 1.0000 - val_loss: 0.5928\n",
      "Epoch 29/100\n",
      "\u001b[1m3/3\u001b[0m \u001b[32m━━━━━━━━━━━━━━━━━━━━\u001b[0m\u001b[37m\u001b[0m \u001b[1m0s\u001b[0m 37ms/step - accuracy: 0.9669 - auc: 0.9921 - loss: 0.4564 - val_accuracy: 1.0000 - val_auc: 1.0000 - val_loss: 0.5432\n",
      "Epoch 30/100\n",
      "\u001b[1m3/3\u001b[0m \u001b[32m━━━━━━━━━━━━━━━━━━━━\u001b[0m\u001b[37m\u001b[0m \u001b[1m0s\u001b[0m 32ms/step - accuracy: 0.9629 - auc: 0.9909 - loss: 0.4157 - val_accuracy: 1.0000 - val_auc: 1.0000 - val_loss: 0.5061\n"
     ]
    },
    {
     "data": {
      "text/plain": [
       "<keras.src.callbacks.history.History at 0x79d3b827f2b0>"
      ]
     },
     "execution_count": 14,
     "metadata": {},
     "output_type": "execute_result"
    }
   ],
   "source": [
    "model.fit(\n",
    "    x = train_data,\n",
    "    y = y,\n",
    "    validation_split=0.1,\n",
    "    epochs = 100,\n",
    "    callbacks = [early_stopping]\n",
    ")"
   ]
  },
  {
   "cell_type": "code",
   "execution_count": 15,
   "id": "3c36fa7d",
   "metadata": {
    "execution": {
     "iopub.execute_input": "2024-04-06T16:29:44.700350Z",
     "iopub.status.busy": "2024-04-06T16:29:44.699856Z",
     "iopub.status.idle": "2024-04-06T16:29:44.972360Z",
     "shell.execute_reply": "2024-04-06T16:29:44.970939Z"
    },
    "papermill": {
     "duration": 0.294612,
     "end_time": "2024-04-06T16:29:44.975573",
     "exception": false,
     "start_time": "2024-04-06T16:29:44.680961",
     "status": "completed"
    },
    "tags": []
   },
   "outputs": [
    {
     "name": "stdout",
     "output_type": "stream",
     "text": [
      "\u001b[1m1/1\u001b[0m \u001b[32m━━━━━━━━━━━━━━━━━━━━\u001b[0m\u001b[37m\u001b[0m \u001b[1m0s\u001b[0m 202ms/step\n"
     ]
    }
   ],
   "source": [
    "y_pred = model.predict(test_data)"
   ]
  },
  {
   "cell_type": "code",
   "execution_count": 16,
   "id": "e4d9c725",
   "metadata": {
    "execution": {
     "iopub.execute_input": "2024-04-06T16:29:45.014061Z",
     "iopub.status.busy": "2024-04-06T16:29:45.013153Z",
     "iopub.status.idle": "2024-04-06T16:29:45.023219Z",
     "shell.execute_reply": "2024-04-06T16:29:45.021918Z"
    },
    "papermill": {
     "duration": 0.033049,
     "end_time": "2024-04-06T16:29:45.026613",
     "exception": false,
     "start_time": "2024-04-06T16:29:44.993564",
     "status": "completed"
    },
    "tags": []
   },
   "outputs": [],
   "source": [
    "conf = confusion_matrix(\n",
    "    bank_df_test['Intend'].values, \n",
    "    np.argmax(y_pred, axis=1),\n",
    ")"
   ]
  },
  {
   "cell_type": "code",
   "execution_count": 17,
   "id": "c7511e96",
   "metadata": {
    "execution": {
     "iopub.execute_input": "2024-04-06T16:29:45.065109Z",
     "iopub.status.busy": "2024-04-06T16:29:45.064598Z",
     "iopub.status.idle": "2024-04-06T16:29:45.450925Z",
     "shell.execute_reply": "2024-04-06T16:29:45.449615Z"
    },
    "papermill": {
     "duration": 0.409342,
     "end_time": "2024-04-06T16:29:45.453837",
     "exception": false,
     "start_time": "2024-04-06T16:29:45.044495",
     "status": "completed"
    },
    "tags": []
   },
   "outputs": [
    {
     "data": {
      "image/png": "[encoded data removed]",
      "text/plain": [
       "<Figure size 640x480 with 2 Axes>"
      ]
     },
     "metadata": {},
     "output_type": "display_data"
    }
   ],
   "source": [
    "disp = ConfusionMatrixDisplay(\n",
    "    conf,\n",
    "    display_labels=[0, 1, 2]\n",
    ")\n",
    "disp.plot()\n",
    "plt.show()"
   ]
  },
  {
   "cell_type": "code",
   "execution_count": null,
   "id": "ac9eefd0",
   "metadata": {
    "papermill": {
     "duration": 0.017435,
     "end_time": "2024-04-06T16:29:45.488652",
     "exception": false,
     "start_time": "2024-04-06T16:29:45.471217",
     "status": "completed"
    },
    "tags": []
   },
   "outputs": [],
   "source": []
  }
 ],
 "metadata": {
  "kaggle": {
   "accelerator": "none",
   "dataSources": [
    {
     "datasetId": 4732594,
     "sourceId": 8029487,
     "sourceType": "datasetVersion"
    }
   ],
   "dockerImageVersionId": 30673,
   "isGpuEnabled": false,
   "isInternetEnabled": true,
   "language": "python",
   "sourceType": "notebook"
  },
  "kernelspec": {
   "display_name": "Python 3",
   "language": "python",
   "name": "python3"
  },
  "language_info": {
   "codemirror_mode": {
    "name": "ipython",
    "version": 3
   },
   "file_extension": ".py",
   "mimetype": "text/x-python",
   "name": "python",
   "nbconvert_exporter": "python",
   "pygments_lexer": "ipython3",
   "version": "3.10.13"
  },
  "papermill": {
   "default_parameters": {},
   "duration": 37.463045,
   "end_time": "2024-04-06T16:29:48.838620",
   "environment_variables": {},
   "exception": null,
   "input_path": "__notebook__.ipynb",
   "output_path": "__notebook__.ipynb",
   "parameters": {},
   "start_time": "2024-04-06T16:29:11.375575",
   "version": "2.5.0"
  }
 },
 "nbformat": 4,
 "nbformat_minor": 5
}
